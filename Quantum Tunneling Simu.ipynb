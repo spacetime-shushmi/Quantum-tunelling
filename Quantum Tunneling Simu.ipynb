{
 "cells": [
  {
   "cell_type": "code",
   "execution_count": 2,
   "id": "0796b08e",
   "metadata": {},
   "outputs": [
    {
     "name": "stdout",
     "output_type": "stream",
     "text": [
      "zsh:1: number expected\r\n"
     ]
    }
   ],
   "source": [
    "![image.png](attachment:image.png)"
   ]
  },
  {
   "cell_type": "code",
   "execution_count": 3,
   "id": "56096331",
   "metadata": {},
   "outputs": [
    {
     "name": "stdout",
     "output_type": "stream",
     "text": [
      "zsh:1: number expected\r\n"
     ]
    }
   ],
   "source": [
    "![image.png](attachment:image.png)"
   ]
  },
  {
   "cell_type": "code",
   "execution_count": 4,
   "id": "1ff9a76a",
   "metadata": {},
   "outputs": [],
   "source": [
    "import matplotlib\n",
    "import matplotlib.pyplot as plt \n",
    "import numpy as np\n",
    "from numpy.fft import fft, ifft\n",
    "import matplotlib.animation as animation\n",
    "\n",
    "\n",
    "\n",
    "\n",
    "\n",
    "class WAVE():\n",
    "    def __init__(self, sigma, x_start, x_end, dx, x0, k0, height, width,dt, nt):\n",
    "        #standard deviation\n",
    "        self.sigma= sigma\n",
    "        \n",
    "        #x-intervals\n",
    "        self.x_start=x_start\n",
    "        self.x_end=x_end\n",
    "        self.dx=dx\n",
    "        \n",
    "        #initialize coordinates\n",
    "        self.x0=x0\n",
    "        self.k0=k0\n",
    "        \n",
    "        #x-axis formation\n",
    "        points = int((x_end -x_start)/dx)\n",
    "        self.points = points\n",
    "        self.x = np.linspace(x_start, x_end, points)\n",
    "        \n",
    "        # Gaussian Wave Packet\n",
    "        self.psi = (1/((2*np.pi*sigma**2))**(1/4))*np.exp(-((self.x-x0)/(2*sigma))**2)*np.exp(1j*k0*self.x)\n",
    "        \n",
    "        # Gaussian Wave Packet- probabilty density\n",
    "        self.prob = abs(self.psi)**2\n",
    "        norm = sum(self.prob)\n",
    "        self.prob /= norm\n",
    "        self.psi /= norm**0.5\n",
    "        \n",
    "        #height for barrier\n",
    "        self.height= height\n",
    "        #width for barrier\n",
    "        self.width = width\n",
    "        \n",
    "        # potential array, initially set to zero\n",
    "        v = np.zeros(points)\n",
    "        \n",
    "        # position of poetential barrier\n",
    "        mid_value = int(points/2)\n",
    "        end_points = int(width/dx) +  mid_value \n",
    "        v[mid_value:end_points] = height\n",
    "        self.v = v\n",
    "        \n",
    "        # Time evolution\n",
    "        self.dt=dt\n",
    "        self.nt = nt\n",
    "        laplace = np.zeros((self.points, self.points))\n",
    "        \n",
    "        for i in range(self.points):\n",
    "            \n",
    "            laplace[i,i]=2\n",
    "            \n",
    "            if i != 0:\n",
    "                laplace[i-1,i]=-1\n",
    "                laplace[i,i-1]=-1\n",
    "        #Hamiltonian calculation\n",
    "        H = (1/(2*((self.dx)**2)) * laplace) + self.v\n",
    "        \n",
    "        # np.eye - Return a 2-D array with ones on the diagonal and zeros elsewhere.\n",
    "        Matrix_1 = (np.eye(np.shape(H)[0])+(dt/2j)*H)\n",
    "        Matrix_2 = np.linalg.inv(np.eye(np.shape(H)[0]) - dt/2j * H)\n",
    "        self.Matrix_product = np.matmul(Matrix_2,Matrix_1)\n",
    "        \n",
    "        \n",
    "    def psi(self):\n",
    "        return f\"{self.psi}\"\n",
    "    \n",
    "    \n",
    "   \n",
    "    def evolve(self):\n",
    "        for i in range(1,self.nt):\n",
    "            self.psi =  np.matmul(self.Matrix_product,self.psi)\n",
    "            self.prob = abs(self.psi)**2\n",
    " \n",
    "            norm = sum(self.prob)\n",
    "            self.prob /= norm\n",
    "            self.psi /= norm**0.5\n",
    " \n",
    "        return self.prob\n",
    "\n",
    "\n",
    "\n",
    "\n",
    "class Animator:\n",
    "    def __init__(self, anim):\n",
    "        \n",
    "        \n",
    "        self.time = 0.0\n",
    "        self.anim = anim\n",
    "        self.fig, self.ax = plt.subplots()\n",
    "        plt.plot(self.anim.x, self.anim.v, color='r')\n",
    "        self.line, = self.ax.plot(self.anim.x, self.anim.evolve())\n",
    "        self.ax.set_ylim(0, 0.05)\n",
    "        self.ax.set_xlabel('Position (m)')\n",
    "        self.ax.set_ylabel('Probability density')\n",
    "\n",
    "        \n",
    "    def update(self, data):\n",
    "        self.line.set_ydata(data)\n",
    "        return self.line,\n",
    "    \n",
    "    def time_step(self):\n",
    "         while self.time <= self.anim.nt:\n",
    "        \n",
    "            \n",
    "           \n",
    "            yield self.anim.evolve()\n",
    "            self.time = self.time + self.anim.dt\n",
    "          \n",
    "    def animate(self):\n",
    "        \n",
    "        # call the animator.  blit=True means only re-draw the parts that have changed.\n",
    "        \n",
    "        self.ani = animation.FuncAnimation(self.fig, self.update, self.time_step,\n",
    "                               interval=20, blit=False)\n",
    "        f = \"Tunnel.gif\"\n",
    "        writergif = animation.PillowWriter(fps=30) \n",
    "        self.ani.save(f, writer=writergif)\n",
    "        "
   ]
  },
  {
   "cell_type": "code",
   "execution_count": 5,
   "id": "90e1c0c4",
   "metadata": {},
   "outputs": [
    {
     "data": {
      "image/png": "[encoded data removed]",
      "text/plain": [
       "<Figure size 432x288 with 1 Axes>"
      ]
     },
     "metadata": {
      "needs_background": "light"
     },
     "output_type": "display_data"
    }
   ],
   "source": [
    "anim = WAVE(sigma=5, x_start=-300, x_end=300, dx=0.75, x0=-250, k0=1,height= 0.04, width=10, dt=0.5, nt=20)\n",
    "animator = Animator(anim)\n",
    "animator.animate()\n",
    "plt.show()"
   ]
  },
  {
   "cell_type": "code",
   "execution_count": null,
   "id": "468d3465",
   "metadata": {},
   "outputs": [],
   "source": []
  }
 ],
 "metadata": {
  "kernelspec": {
   "display_name": "Python 3",
   "language": "python",
   "name": "python3"
  },
  "language_info": {
   "codemirror_mode": {
    "name": "ipython",
    "version": 3
   },
   "file_extension": ".py",
   "mimetype": "text/x-python",
   "name": "python",
   "nbconvert_exporter": "python",
   "pygments_lexer": "ipython3",
   "version": "3.8.8"
  }
 },
 "nbformat": 4,
 "nbformat_minor": 5
}
