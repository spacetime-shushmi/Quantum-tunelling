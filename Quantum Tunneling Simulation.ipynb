{
 "cells": [
  {
   "cell_type": "markdown",
   "id": "9b7bbc1a",
   "metadata": {},
   "source": [
    "# SIMULATING QUANTUM TUNNELING: Demonstrating a Gaussian Wave Packet passing a potential barrier."
   ]
  },
  {
   "cell_type": "markdown",
   "id": "9d7fe65e",
   "metadata": {},
   "source": [
    " # Discritized Hamiltonian\n",
    " $\\dfrac{1}{2\\text{d}x^2} \\begin{pmatrix} \\ \\ 2 & -1 & \\ & \\ \\\\ -1 &\\ \\ 2 & -1 & \\ \\\\ \\ & -1 &\\ \\ 2 & -1 & \\ \\\\ \\ & \\ & \\ & \\ddots \\end{pmatrix} +   \\begin{pmatrix} \\ \\ V[0] & \\ & \\ & \\ \\\\ \\ & V[1] & \\ & \\ \\\\ \\ & \\ & V[2] & \\ & \\ \\\\ \\ & \\ & \\ & \\ddots \\end{pmatrix} $"
   ]
  },
  {
   "cell_type": "markdown",
   "id": "6c0985ff",
   "metadata": {},
   "source": [
    " # Centered Finite Difference \n",
    "$\\Delta f \\approx \\dfrac{f[x-\\text{d}x] - 2f[x] + f[x + \\text{d}x]}{\\text{d}x^2}$"
   ]
  },
  {
   "cell_type": "markdown",
   "id": "21803f6e",
   "metadata": {},
   "source": [
    "# Solving the finite difference scheme gives what we intend to plot\n",
    "$\\psi(x, t + \\text{d}t) = \\left(1 -   \\dfrac{ \\text{d}t }{2i}\\,H \\right)^{-1}   \\left(1 + \\dfrac{ \\text{d}t }{2i}\\,H\\right)  \\psi(x, t)$"
   ]
  },
  {
   "cell_type": "code",
   "execution_count": 1,
   "id": "1ff9a76a",
   "metadata": {},
   "outputs": [],
   "source": [
    "import matplotlib\n",
    "import matplotlib.pyplot as plt \n",
    "import numpy as np\n",
    "from numpy.fft import fft, ifft\n",
    "import matplotlib.animation as animation\n",
    "\n",
    "\n",
    "\n",
    "\n",
    "\n",
    "class WAVE():\n",
    "    def __init__(self, sigma, x_start, x_end, dx, x0, k0, height, width,dt, nt):\n",
    "        #standard deviation\n",
    "        self.sigma= sigma\n",
    "        \n",
    "        #x-intervals\n",
    "        self.x_start=x_start\n",
    "        self.x_end=x_end\n",
    "        self.dx=dx\n",
    "        \n",
    "        #initialize coordinates\n",
    "        self.x0=x0\n",
    "        self.k0=k0\n",
    "        \n",
    "        #x-axis formation\n",
    "        points = int((x_end -x_start)/dx)\n",
    "        self.points = points\n",
    "        self.x = np.linspace(x_start, x_end, points)\n",
    "        \n",
    "        # Gaussian Wave Packet\n",
    "        self.psi = (1/((2*np.pi*sigma**2))**(1/4))*np.exp(-((self.x-x0)/(2*sigma))**2)*np.exp(1j*k0*self.x)\n",
    "        \n",
    "        # Gaussian Wave Packet- probabilty density\n",
    "        self.prob = abs(self.psi)**2\n",
    "        norm = sum(self.prob)\n",
    "        self.prob /= norm\n",
    "        self.psi /= norm**0.5\n",
    "        \n",
    "        #height for barrier\n",
    "        self.height= height\n",
    "        #width for barrier\n",
    "        self.width = width\n",
    "        \n",
    "        # potential array, initially set to zero\n",
    "        v = np.zeros(points)\n",
    "        \n",
    "        # position of poetential barrier\n",
    "        mid_value = int(points/2)\n",
    "        end_points = int(width/dx) +  mid_value \n",
    "        v[mid_value:end_points] = height\n",
    "        self.v = v\n",
    "        \n",
    "        # Time evolution\n",
    "        self.dt=dt\n",
    "        self.nt = nt\n",
    "        laplace = np.zeros((self.points, self.points))\n",
    "        \n",
    "        for i in range(self.points):\n",
    "            #specifying the diagonal elements of the matrix\n",
    "            laplace[i,i]=2\n",
    "            \n",
    "            if i != 0:\n",
    "                laplace[i-1,i]=-1\n",
    "                laplace[i,i-1]=-1\n",
    "        #Hamiltonian calculation\n",
    "        H = (1/(2*((self.dx)**2)) * laplace) + self.v\n",
    "        \n",
    "        # np.eye - Return a 2-D array with ones on the diagonal and zeros elsewhere.\n",
    "        Matrix_1 = (np.eye(np.shape(H)[0])+(dt/2j)*H)\n",
    "        Matrix_2 = np.linalg.inv(np.eye(np.shape(H)[0]) - dt/2j * H)\n",
    "        self.Matrix_product = np.matmul(Matrix_2,Matrix_1)\n",
    "        \n",
    "        \n",
    "    def psi(self):\n",
    "        return f\"{self.psi}\"\n",
    "    \n",
    "    \n",
    "   #evolves the Gaussian packet forward in time\n",
    "    def evolve(self):\n",
    "        for i in range(1,self.nt):\n",
    "            self.psi =  np.matmul(self.Matrix_product,self.psi)\n",
    "            self.prob = abs(self.psi)**2\n",
    " \n",
    "            norm = sum(self.prob)\n",
    "            self.prob /= norm\n",
    "            self.psi /= norm**0.5\n",
    " \n",
    "        return self.prob\n",
    "\n",
    "\n",
    "\n",
    "#Animating the scenerio........\n",
    "class Animator:\n",
    "    def __init__(self, anim):\n",
    "        \n",
    "        #set initial time\n",
    "        self.time = 0.0\n",
    "        #anim is the parameter which will define our Wave packet\n",
    "        self.anim = anim\n",
    "        self.fig, self.ax = plt.subplots()\n",
    "        #plotting the barrier(barrier is stationary)\n",
    "        plt.plot(self.anim.x, self.anim.v, color='r')\n",
    "        #self line is the plot that will progress in time\n",
    "        self.line, = self.ax.plot(self.anim.x, self.anim.evolve())\n",
    "        #setting up a time progression track\n",
    "        self.time_text = self.ax.text(0.05, 0.95, '', horizontalalignment='left',\n",
    "            verticalalignment='top', transform=self.ax.transAxes)\n",
    "        #setting y limit wisely as the wave will otherwise be too small or too large to detect\n",
    "        self.ax.set_ylim(0, 0.05)\n",
    "        self.ax.set_xlabel('Position (m)')\n",
    "        self.ax.set_ylabel('Probability density')\n",
    "\n",
    "        #update the frames \n",
    "    def update(self, data):\n",
    "        self.line.set_ydata(data)\n",
    "        return self.line,\n",
    "    \n",
    "    def time_step(self):\n",
    "         while self.time <= self.anim.nt:\n",
    "        \n",
    "            self.time_text.set_text(\n",
    "                'Elapsed time: {:6.2f} fs'.format(self.time * 2.419e-2))\n",
    "           #essentially returns the evolve function from the previous class\n",
    "            yield self.anim.evolve()\n",
    "            self.time = self.time + self.anim.dt\n",
    "          \n",
    "    def animate(self):\n",
    "        \n",
    "        # call the animator.  blit=True means only re-draw the parts that have changed.\n",
    "        #class matplotlib.animation.FuncAnimation(fig, func, frames=None, init_func=None, fargs=None, save_count=None, *, cache_frame_data=True, **kwargs)\n",
    "        self.ani = animation.FuncAnimation(self.fig, self.update, self.time_step,\n",
    "                               interval=20, blit=False)\n",
    "        f = \"Tunnel.gif\"\n",
    "        writergif = animation.PillowWriter(fps=30) \n",
    "        self.ani.save(f, writer=writergif)\n",
    "        #save the animation"
   ]
  },
  {
   "cell_type": "code",
   "execution_count": 2,
   "id": "90e1c0c4",
   "metadata": {},
   "outputs": [
    {
     "data": {
      "image/png": "[encoded data removed]",
      "text/plain": [
       "<Figure size 432x288 with 1 Axes>"
      ]
     },
     "metadata": {
      "needs_background": "light"
     },
     "output_type": "display_data"
    }
   ],
   "source": [
    "anim = WAVE(sigma=5, x_start=-300, x_end=300, dx=0.75, x0=-250, k0=1,height= 0.04, width=10, dt=0.5, nt=20)\n",
    "animator = Animator(anim)\n",
    "animator.animate()\n",
    "plt.show()"
   ]
  },
  {
   "cell_type": "markdown",
   "id": "d6dad83b",
   "metadata": {},
   "source": [
    "References:\n",
    "https://physicspython.wordpress.com/2019/08/31/quantum-tunneling-part-1/\n",
    "https://physicspython.wordpress.com/2019/10/04/quantum-tunneling-part-2/\n",
    "https://physicspython.wordpress.com/2019/10/27/quantum-tunneling-part-3/\n"
   ]
  }
 ],
 "metadata": {
  "kernelspec": {
   "display_name": "Python 3",
   "language": "python",
   "name": "python3"
  },
  "language_info": {
   "codemirror_mode": {
    "name": "ipython",
    "version": 3
   },
   "file_extension": ".py",
   "mimetype": "text/x-python",
   "name": "python",
   "nbconvert_exporter": "python",
   "pygments_lexer": "ipython3",
   "version": "3.8.8"
  }
 },
 "nbformat": 4,
 "nbformat_minor": 5
}
